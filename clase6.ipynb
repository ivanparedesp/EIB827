{
 "cells": [
  {
   "cell_type": "markdown",
   "metadata": {},
   "source": [
    "Clase 6\n",
    "====\n",
    "Hoy veremos herramientas avanzadas de cobrapy.\n",
    "\n",
    "Objetivos\n",
    "\n",
    "* Lectura de modelos metabólicos\n",
    "* Flux Varional Analysis (FVA)\n",
    "* Parsimonious FBA\n",
    "\n",
    "\n",
    "Lectura de modelos metabólicos\n",
    "===========================\n",
    "\n",
    "Cobrapy puede leer y escribir modelos metabólicos en varios formatos, incluyendo SBML, JSON, YAML, MAT, y pickle. Hoy trabajaremos con SBML, el cual es el formato preferido. \n",
    "\n",
    "Los modelos metabólicos para varias especies pueden ser descargados [aquí](http://systemsbiology.ucsd.edu/Downloads). Para los ejercicios de hoy descarga el modelo [iMM904 de Saccharomyces cerevisiae](https://raw.githubusercontent.com/modcommet/Clases/master/iMM904.xml)\n"
   ]
  },
  {
   "cell_type": "code",
   "execution_count": 1,
   "metadata": {},
   "outputs": [
    {
     "data": {
      "text/html": [
       "\n",
       "        <table>\n",
       "            <tr>\n",
       "                <td><strong>Name</strong></td>\n",
       "                <td>iMM904</td>\n",
       "            </tr><tr>\n",
       "                <td><strong>Memory address</strong></td>\n",
       "                <td>0x05f9d2b0</td>\n",
       "            </tr><tr>\n",
       "                <td><strong>Number of metabolites</strong></td>\n",
       "                <td>1226</td>\n",
       "            </tr><tr>\n",
       "                <td><strong>Number of reactions</strong></td>\n",
       "                <td>1577</td>\n",
       "            </tr><tr>\n",
       "                <td><strong>Objective expression</strong></td>\n",
       "                <td>-1.0*BIOMASS_SC5_notrace_reverse_93090 + 1.0*BIOMASS_SC5_notrace</td>\n",
       "            </tr><tr>\n",
       "                <td><strong>Compartments</strong></td>\n",
       "                <td>cytosol, extracellular space, golgi apparatus, mitochondria, nucleus, endoplasmic reticulum, vacuole, peroxisome/glyoxysome</td>\n",
       "            </tr>\n",
       "          </table>"
      ],
      "text/plain": [
       "<Model iMM904 at 0x5f9d2b0>"
      ]
     },
     "execution_count": 1,
     "metadata": {},
     "output_type": "execute_result"
    }
   ],
   "source": [
    "import cobra\n",
    "model = cobra.io.read_sbml_model(\"iMM904.xml\") #importa el formato y lo guarda en model\n",
    "model"
   ]
  },
  {
   "cell_type": "markdown",
   "metadata": {},
   "source": [
    "Running Flux Vartional Analysis (FVA)\n",
    "=====================================\n",
    "\n",
    "En general FBA no tiene una solución única, pero varias que resultan en el mismo valor de la función objetivo. El análisis de variabilidad de flujo (FVA: Flux Variational Analysis) permite encontra rel rango de flujos de cada metabólito en el valor optimo."
   ]
  },
  {
   "cell_type": "code",
   "execution_count": 2,
   "metadata": {
    "collapsed": true
   },
   "outputs": [],
   "source": [
    "# Primero encontramos la solución optima del modelo\n",
    "solution = model.optimize()"
   ]
  },
  {
   "cell_type": "code",
   "execution_count": 3,
   "metadata": {
    "collapsed": true
   },
   "outputs": [],
   "source": [
    "# Luego computamos los rangos de flujo de cada metabólito\n",
    "from cobra.flux_analysis import flux_variability_analysis\n",
    "\n",
    "fva=flux_variability_analysis(model)"
   ]
  },
  {
   "cell_type": "code",
   "execution_count": 4,
   "metadata": {},
   "outputs": [
    {
     "data": {
      "text/html": [
       "<div>\n",
       "<style>\n",
       "    .dataframe thead tr:only-child th {\n",
       "        text-align: right;\n",
       "    }\n",
       "\n",
       "    .dataframe thead th {\n",
       "        text-align: left;\n",
       "    }\n",
       "\n",
       "    .dataframe tbody tr th {\n",
       "        vertical-align: top;\n",
       "    }\n",
       "</style>\n",
       "<table border=\"1\" class=\"dataframe\">\n",
       "  <thead>\n",
       "    <tr style=\"text-align: right;\">\n",
       "      <th></th>\n",
       "      <th>maximum</th>\n",
       "      <th>minimum</th>\n",
       "    </tr>\n",
       "  </thead>\n",
       "  <tbody>\n",
       "    <tr>\n",
       "      <th>13BGH</th>\n",
       "      <td>6.974756e-10</td>\n",
       "      <td>0.000000e+00</td>\n",
       "    </tr>\n",
       "    <tr>\n",
       "      <th>13BGHe</th>\n",
       "      <td>0.000000e+00</td>\n",
       "      <td>0.000000e+00</td>\n",
       "    </tr>\n",
       "    <tr>\n",
       "      <th>13GS</th>\n",
       "      <td>3.266700e-01</td>\n",
       "      <td>3.266700e-01</td>\n",
       "    </tr>\n",
       "    <tr>\n",
       "      <th>16GS</th>\n",
       "      <td>0.000000e+00</td>\n",
       "      <td>0.000000e+00</td>\n",
       "    </tr>\n",
       "    <tr>\n",
       "      <th>23CAPPD</th>\n",
       "      <td>0.000000e+00</td>\n",
       "      <td>0.000000e+00</td>\n",
       "    </tr>\n",
       "    <tr>\n",
       "      <th>2DDA7Ptm</th>\n",
       "      <td>0.000000e+00</td>\n",
       "      <td>-7.608291e-02</td>\n",
       "    </tr>\n",
       "    <tr>\n",
       "      <th>2DHPtm</th>\n",
       "      <td>4.123008e-10</td>\n",
       "      <td>0.000000e+00</td>\n",
       "    </tr>\n",
       "    <tr>\n",
       "      <th>2DOXG6PP</th>\n",
       "      <td>0.000000e+00</td>\n",
       "      <td>0.000000e+00</td>\n",
       "    </tr>\n",
       "    <tr>\n",
       "      <th>2HBO</th>\n",
       "      <td>0.000000e+00</td>\n",
       "      <td>-1.186815e-14</td>\n",
       "    </tr>\n",
       "    <tr>\n",
       "      <th>2HBt2</th>\n",
       "      <td>0.000000e+00</td>\n",
       "      <td>-1.186815e-14</td>\n",
       "    </tr>\n",
       "  </tbody>\n",
       "</table>\n",
       "</div>"
      ],
      "text/plain": [
       "               maximum       minimum\n",
       "13BGH     6.974756e-10  0.000000e+00\n",
       "13BGHe    0.000000e+00  0.000000e+00\n",
       "13GS      3.266700e-01  3.266700e-01\n",
       "16GS      0.000000e+00  0.000000e+00\n",
       "23CAPPD   0.000000e+00  0.000000e+00\n",
       "2DDA7Ptm  0.000000e+00 -7.608291e-02\n",
       "2DHPtm    4.123008e-10  0.000000e+00\n",
       "2DOXG6PP  0.000000e+00  0.000000e+00\n",
       "2HBO      0.000000e+00 -1.186815e-14\n",
       "2HBt2     0.000000e+00 -1.186815e-14"
      ]
     },
     "execution_count": 4,
     "metadata": {},
     "output_type": "execute_result"
    }
   ],
   "source": [
    "# Para ver los rangos de los primeros 10 metabolitos\n",
    "fva[0:10]"
   ]
  },
  {
   "cell_type": "markdown",
   "metadata": {},
   "source": [
    "parsimonious FBA\n",
    "=========\n",
    "\n",
    "Por otra parte el valor optimo encontrado por FBA no necesariamente implica que se están ocupando el minimo de flujos disponibles. Por ejemplo, cuando hay ciclos es posible que algunos flujos tomen valores arbitrariamente altos sin afectar el valor de la función objetivo. Esto puede ser una causa de artefactos. Para prevenir esto se puede usar la herramienta parsimoniouos FBA (pFBA), la cual realiza una optimización en dos niveles. En el nivel interna se optimiza la función objetivo, tal como en un FBA normal, mientras que en la optimización externa se minimiza la suma total de los flujos con la restricción de que se conserve el valor óptimo encontrado por la optimización interna.\n",
    "\n",
    "Veamos un ejemplo:"
   ]
  },
  {
   "cell_type": "code",
   "execution_count": 8,
   "metadata": {
    "collapsed": true
   },
   "outputs": [],
   "source": [
    "# Este es un FBA regular #al tener soluciones alternativas, no todas son validas\n",
    "fba_solution = model.optimize() #optimizacion interna\n",
    "# Ahora veamos como seria el pFBA\n",
    "pfba_solution = cobra.flux_analysis.pfba(model)"
   ]
  },
  {
   "cell_type": "code",
   "execution_count": 12,
   "metadata": {},
   "outputs": [
    {
     "name": "stdout",
     "output_type": "stream",
     "text": [
      "0.287865703704\n",
      "338.005991582\n"
     ]
    }
   ],
   "source": [
    "# Los valores de las funciones objetivos son:\n",
    "print fba_solution.f #FBA regular, valor obj FBA\n",
    "print pfba_solution.f #suma de los flujos"
   ]
  },
  {
   "cell_type": "code",
   "execution_count": 16,
   "metadata": {},
   "outputs": [
    {
     "name": "stdout",
     "output_type": "stream",
     "text": [
      "0.287865703704\n",
      "0.287865703704\n",
      "3.88578058619e-16\n"
     ]
    }
   ],
   "source": [
    "# Los valores de la reaccion de biomasa (funcion objetivo del FBA) deberia ser el mismo en ambos casos\n",
    "print fba_solution.fluxes[\"BIOMASS_SC5_notrace\"]\n",
    "print pfba_solution.fluxes[\"BIOMASS_SC5_notrace\"]\n",
    "print abs(fba_solution.fluxes[\"BIOMASS_SC5_notrace\"] - pfba_solution.fluxes[\"BIOMASS_SC5_notrace\"])"
   ]
  },
  {
   "cell_type": "code",
   "execution_count": 15,
   "metadata": {},
   "outputs": [
    {
     "name": "stdout",
     "output_type": "stream",
     "text": [
      "134.787892903\n",
      "134.463494724\n"
     ]
    },
    {
     "data": {
      "text/plain": [
       "13BGH       0.000000\n",
       "13BGHe      0.000000\n",
       "13GS        0.326670\n",
       "16GS        0.000000\n",
       "23CAPPD     0.000000\n",
       "2DDA7Ptm   -0.076083\n",
       "2DHPtm      0.000000\n",
       "2DOXG6PP    0.000000\n",
       "2HBO        0.000000\n",
       "2HBt2       0.000000\n",
       "Name: fluxes, dtype: float64"
      ]
     },
     "execution_count": 15,
     "metadata": {},
     "output_type": "execute_result"
    }
   ],
   "source": [
    "# Sin embargo la suma de los flujos deberia ser menor en pFBA\n",
    "print sum(fba_solution.fluxes)\n",
    "print sum(pfba_solution.fluxes)\n",
    "fba_solution.fluxes[0:10]"
   ]
  },
  {
   "cell_type": "markdown",
   "metadata": {},
   "source": [
    "Ejercicio\n",
    "=========\n",
    "\n",
    "1. Descargen una la read metabólica de Ecoli \n",
    "2. Escriban una función para realizar todos los análsis vistos en este clase\n",
    "3. Escriban su función como un script."
   ]
  },
  {
   "cell_type": "code",
   "execution_count": 9,
   "metadata": {},
   "outputs": [
    {
     "ename": "ImportError",
     "evalue": "libSBML required for fbc < 2",
     "output_type": "error",
     "traceback": [
      "\u001b[1;31m---------------------------------------------------------------------------\u001b[0m",
      "\u001b[1;31mImportError\u001b[0m                               Traceback (most recent call last)",
      "\u001b[1;32m<ipython-input-9-7eadca1036ce>\u001b[0m in \u001b[0;36m<module>\u001b[1;34m()\u001b[0m\n\u001b[0;32m      1\u001b[0m \u001b[1;32mimport\u001b[0m \u001b[0mcobra\u001b[0m\u001b[1;33m\u001b[0m\u001b[0m\n\u001b[1;32m----> 2\u001b[1;33m \u001b[0mmodel\u001b[0m \u001b[1;33m=\u001b[0m \u001b[0mcobra\u001b[0m\u001b[1;33m.\u001b[0m\u001b[0mio\u001b[0m\u001b[1;33m.\u001b[0m\u001b[0mread_sbml_model\u001b[0m\u001b[1;33m(\u001b[0m\u001b[1;34m\"Ec_iJR904.xml\"\u001b[0m\u001b[1;33m)\u001b[0m \u001b[1;31m#importa el formato y lo guarda en model\u001b[0m\u001b[1;33m\u001b[0m\u001b[0m\n\u001b[0m\u001b[0;32m      3\u001b[0m \u001b[0mmodel\u001b[0m\u001b[1;33m\u001b[0m\u001b[0m\n",
      "\u001b[1;32mC:\\Users\\Ivan\\Anaconda2\\lib\\site-packages\\cobra\\io\\sbml3.pyc\u001b[0m in \u001b[0;36mread_sbml_model\u001b[1;34m(filename, number, **kwargs)\u001b[0m\n\u001b[0;32m    573\u001b[0m     \u001b[1;32mif\u001b[0m \u001b[0muse_libsbml\u001b[0m\u001b[1;33m:\u001b[0m\u001b[1;33m\u001b[0m\u001b[0m\n\u001b[0;32m    574\u001b[0m         \u001b[1;32mif\u001b[0m \u001b[0mlibsbml\u001b[0m \u001b[1;32mis\u001b[0m \u001b[0mNone\u001b[0m\u001b[1;33m:\u001b[0m\u001b[1;33m\u001b[0m\u001b[0m\n\u001b[1;32m--> 575\u001b[1;33m             \u001b[1;32mraise\u001b[0m \u001b[0mImportError\u001b[0m\u001b[1;33m(\u001b[0m\u001b[1;34m\"libSBML required for fbc < 2\"\u001b[0m\u001b[1;33m)\u001b[0m\u001b[1;33m\u001b[0m\u001b[0m\n\u001b[0m\u001b[0;32m    576\u001b[0m         \u001b[1;31m# libsbml needs a file string, so write to temp file if a file handle\u001b[0m\u001b[1;33m\u001b[0m\u001b[1;33m\u001b[0m\u001b[0m\n\u001b[0;32m    577\u001b[0m         \u001b[1;32mif\u001b[0m \u001b[0mhasattr\u001b[0m\u001b[1;33m(\u001b[0m\u001b[0mfilename\u001b[0m\u001b[1;33m,\u001b[0m \u001b[1;34m\"read\"\u001b[0m\u001b[1;33m)\u001b[0m\u001b[1;33m:\u001b[0m\u001b[1;33m\u001b[0m\u001b[0m\n",
      "\u001b[1;31mImportError\u001b[0m: libSBML required for fbc < 2"
     ]
    }
   ],
   "source": [
    "import cobra\n",
    "model = cobra.io.read_sbml_model(\"Ec_iJR904.xml\") #importa el formato y lo guarda en model\n",
    "model"
   ]
  },
  {
   "cell_type": "code",
   "execution_count": 3,
   "metadata": {
    "collapsed": true
   },
   "outputs": [],
   "source": [
    "# Primero encontramos la solución optima del modelo\n",
    "solution = model.optimize()"
   ]
  },
  {
   "cell_type": "code",
   "execution_count": 4,
   "metadata": {
    "collapsed": true
   },
   "outputs": [],
   "source": [
    "# Luego computamos los rangos de flujo de cada metabólito\n",
    "from cobra.flux_analysis import flux_variability_analysis\n",
    "\n",
    "fva=flux_variability_analysis(model)"
   ]
  },
  {
   "cell_type": "code",
   "execution_count": 5,
   "metadata": {},
   "outputs": [
    {
     "data": {
      "text/html": [
       "<div>\n",
       "<style>\n",
       "    .dataframe thead tr:only-child th {\n",
       "        text-align: right;\n",
       "    }\n",
       "\n",
       "    .dataframe thead th {\n",
       "        text-align: left;\n",
       "    }\n",
       "\n",
       "    .dataframe tbody tr th {\n",
       "        vertical-align: top;\n",
       "    }\n",
       "</style>\n",
       "<table border=\"1\" class=\"dataframe\">\n",
       "  <thead>\n",
       "    <tr style=\"text-align: right;\">\n",
       "      <th></th>\n",
       "      <th>maximum</th>\n",
       "      <th>minimum</th>\n",
       "    </tr>\n",
       "  </thead>\n",
       "  <tbody>\n",
       "    <tr>\n",
       "      <th>2HMHMBQMTm</th>\n",
       "      <td>7.990703e-11</td>\n",
       "      <td>0.000000e+00</td>\n",
       "    </tr>\n",
       "    <tr>\n",
       "      <th>2HP6MPMOm</th>\n",
       "      <td>7.990703e-11</td>\n",
       "      <td>0.000000e+00</td>\n",
       "    </tr>\n",
       "    <tr>\n",
       "      <th>2HPMBQMTm</th>\n",
       "      <td>7.990703e-11</td>\n",
       "      <td>0.000000e+00</td>\n",
       "    </tr>\n",
       "    <tr>\n",
       "      <th>2HPMMBQMOm</th>\n",
       "      <td>7.990703e-11</td>\n",
       "      <td>0.000000e+00</td>\n",
       "    </tr>\n",
       "    <tr>\n",
       "      <th>2MBACt</th>\n",
       "      <td>3.811879e-10</td>\n",
       "      <td>0.000000e+00</td>\n",
       "    </tr>\n",
       "    <tr>\n",
       "      <th>2MBALDt</th>\n",
       "      <td>5.709195e-10</td>\n",
       "      <td>0.000000e+00</td>\n",
       "    </tr>\n",
       "    <tr>\n",
       "      <th>2MBALDtm</th>\n",
       "      <td>6.008248e-10</td>\n",
       "      <td>0.000000e+00</td>\n",
       "    </tr>\n",
       "    <tr>\n",
       "      <th>2MBTOHt</th>\n",
       "      <td>6.008248e-10</td>\n",
       "      <td>0.000000e+00</td>\n",
       "    </tr>\n",
       "    <tr>\n",
       "      <th>2MBTOHtm</th>\n",
       "      <td>0.000000e+00</td>\n",
       "      <td>4.272533e-14</td>\n",
       "    </tr>\n",
       "    <tr>\n",
       "      <th>2MPPALt</th>\n",
       "      <td>2.684536e-09</td>\n",
       "      <td>0.000000e+00</td>\n",
       "    </tr>\n",
       "  </tbody>\n",
       "</table>\n",
       "</div>"
      ],
      "text/plain": [
       "                 maximum       minimum\n",
       "2HMHMBQMTm  7.990703e-11  0.000000e+00\n",
       "2HP6MPMOm   7.990703e-11  0.000000e+00\n",
       "2HPMBQMTm   7.990703e-11  0.000000e+00\n",
       "2HPMMBQMOm  7.990703e-11  0.000000e+00\n",
       "2MBACt      3.811879e-10  0.000000e+00\n",
       "2MBALDt     5.709195e-10  0.000000e+00\n",
       "2MBALDtm    6.008248e-10  0.000000e+00\n",
       "2MBTOHt     6.008248e-10  0.000000e+00\n",
       "2MBTOHtm    0.000000e+00  4.272533e-14\n",
       "2MPPALt     2.684536e-09  0.000000e+00"
      ]
     },
     "execution_count": 5,
     "metadata": {},
     "output_type": "execute_result"
    }
   ],
   "source": [
    "# Para ver los rangos de los primeros 10 metabolitos\n",
    "fva[10:20]"
   ]
  },
  {
   "cell_type": "code",
   "execution_count": null,
   "metadata": {
    "collapsed": true
   },
   "outputs": [],
   "source": []
  }
 ],
 "metadata": {
  "kernelspec": {
   "display_name": "Python 2",
   "language": "python",
   "name": "python2"
  },
  "language_info": {
   "codemirror_mode": {
    "name": "ipython",
    "version": 2
   },
   "file_extension": ".py",
   "mimetype": "text/x-python",
   "name": "python",
   "nbconvert_exporter": "python",
   "pygments_lexer": "ipython2",
   "version": "2.7.13"
  }
 },
 "nbformat": 4,
 "nbformat_minor": 2
}
